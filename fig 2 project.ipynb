{
 "cells": [
  {
   "cell_type": "code",
   "execution_count": 1,
   "id": "30239c8e-ce72-4c51-873e-ca2a27a46f56",
   "metadata": {},
   "outputs": [],
   "source": [
    "import numpy as np\n",
    "import matplotlib.pyplot as plt\n",
    "%matplotlib inline\n",
    "from scipy.integrate import odeint"
   ]
  },
  {
   "cell_type": "code",
   "execution_count": 2,
   "id": "a391afed-c7c0-4b94-8776-7eb7b3956932",
   "metadata": {},
   "outputs": [],
   "source": [
    "# 1. initial conditions\n",
    "C0 = 0.2                    # initial population\n",
    "M0 = 0.01                   # initial M\n",
    "X0 = 0.01                   # initial X\n",
    "y0 = [C0, M0, X0]           # initial condition vector\n",
    "\n",
    "# other trajectory initial conditions\n",
    "C02 = 0.1\n",
    "M02 = 0.4\n",
    "X02 = 0.01\n",
    "y02 = [C02, M02, X02]\n",
    "\n",
    "K_1 = 0.1\n",
    "K_2 = 0.1\n",
    "K_3 = 0.1\n",
    "K_4 = 0.1\n",
    "V_M1 = 0.5\n",
    "V_2 = 0.167\n",
    "V_M3 = 0.2\n",
    "V_4 = 0.1\n",
    "v_i = 0.023\n",
    "v_d = 0.1\n",
    "K_c = 0.3\n",
    "K_d = 0.02\n",
    "k_d = 0.00333\n"
   ]
  },
  {
   "cell_type": "code",
   "execution_count": 5,
   "id": "9ea830d7-4e84-41c6-ab10-a412efd17d03",
   "metadata": {},
   "outputs": [
    {
     "data": {
      "text/plain": [
       "(0.0, 1.0)"
      ]
     },
     "execution_count": 5,
     "metadata": {},
     "output_type": "execute_result"
    },
    {
     "data": {
      "image/png": "[encoded data removed]",
      "text/plain": [
       "<Figure size 432x288 with 1 Axes>"
      ]
     },
     "metadata": {
      "needs_background": "light"
     },
     "output_type": "display_data"
    }
   ],
   "source": [
    "# ignoring divide by zero error\n",
    "np.seterr(divide='ignore', invalid='ignore')\n",
    "\n",
    "\n",
    "# 1. parameters\n",
    "\n",
    "V_M1 = 3\n",
    "V_2 = 1.5\n",
    "K_c = 0.5\n",
    "V_4 = 0.5\n",
    "\n",
    "\n",
    "# function 'steady_state1' to solve dM/dt = 0\n",
    "\n",
    "def steady_state1(m1, K_i):\n",
    "    m = m1\n",
    "    K = K_i\n",
    "    \n",
    "    J = (V_2*m*(K + (1-m))) / ((K + m)*(1-m))\n",
    "    \n",
    "    C_m = (J*K_c) / (V_M1 - J)\n",
    "    return C_m\n",
    "\n",
    "# concentration intervals\n",
    "\n",
    "m1_start = 0.0\n",
    "m1_end = 1.0\n",
    "\n",
    "m1 = np.linspace(0.0, 1.0, 10000)\n",
    "\n",
    "# other parameters to plot other curves\n",
    "k_i1= 0.005\n",
    "k_i2= 10\n",
    "\n",
    "result_ss1 = steady_state1(m1, k_i1)\n",
    "result_ss2 = steady_state1(m1, k_i2)\n",
    "\n",
    "# get rid of asympotes\n",
    "utol = 100.\n",
    "ltol = -100\n",
    "\n",
    "result_ss2[result_ss2>utol] = np.inf\n",
    "result_ss2[result_ss2<ltol] = np.inf\n",
    "\n",
    "# plot results\n",
    "\n",
    "fig = plt.figure()\n",
    "plt.plot(result_ss1, m1,  alpha=0.5, color='k')\n",
    "plt.plot(result_ss2, m1,  alpha=0.5, color='b')\n",
    "\n",
    "plt.xlim([0, 3])\n",
    "plt.ylim([0, 1])"
   ]
  },
  {
   "cell_type": "code",
   "execution_count": 7,
   "id": "5bd8d729-aff1-44bd-ac6e-1e360e8d20de",
   "metadata": {},
   "outputs": [
    {
     "data": {
      "text/plain": [
       "(0.0, 1.0)"
      ]
     },
     "execution_count": 7,
     "metadata": {},
     "output_type": "execute_result"
    },
    {
     "data": {
      "image/png": "[encoded data removed]",
      "text/plain": [
       "<Figure size 504x504 with 1 Axes>"
      ]
     },
     "metadata": {
      "needs_background": "light"
     },
     "output_type": "display_data"
    }
   ],
   "source": [
    "# 1. parameters\n",
    "\n",
    "V_M1 = 3\n",
    "V_2 = 1.5\n",
    "K_c = 0.5\n",
    "V_4 = 0.5\n",
    "V_M3 = 1\n",
    "\n",
    "\n",
    "# fraction intervals\n",
    "x1 = np.linspace(0.0, 1, 10000)\n",
    "\n",
    "\n",
    "# function 'steady_state1' to solve dX/dt = 0, function M(X) found\n",
    "def steady_state2(x1, K_i):\n",
    "    x = x1\n",
    "    K = K_i\n",
    "    \n",
    "    M_x = (V_4 * x * ( K + (1 - x))) / (V_M3 * (1 - x) * (K + x))\n",
    "    return M_x\n",
    "\n",
    "          \n",
    "\n",
    "# get solutions for different parameters\n",
    "result2_ss1 = steady_state2(x1, k_i1)\n",
    "result2_ss2 = steady_state2(x1, k_i2)\n",
    "\n",
    "\n",
    "# plot results\n",
    "fig = plt.figure(figsize = (7,7))\n",
    "plt.plot( result2_ss1, x1,  alpha=0.5, color='k')\n",
    "plt.plot( result2_ss2, x1, alpha=0.5, color='b')\n",
    "\n",
    "plt.xlim([0, 1])\n",
    "plt.ylim([0, 1])"
   ]
  }
 ],
 "metadata": {
  "kernelspec": {
   "display_name": "Python 3 (ipykernel)",
   "language": "python",
   "name": "python3"
  },
  "language_info": {
   "codemirror_mode": {
    "name": "ipython",
    "version": 3
   },
   "file_extension": ".py",
   "mimetype": "text/x-python",
   "name": "python",
   "nbconvert_exporter": "python",
   "pygments_lexer": "ipython3",
   "version": "3.8.8"
  }
 },
 "nbformat": 4,
 "nbformat_minor": 5
}
